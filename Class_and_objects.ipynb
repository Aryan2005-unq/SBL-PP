{
  "nbformat": 4,
  "nbformat_minor": 0,
  "metadata": {
    "colab": {
      "provenance": []
    },
    "kernelspec": {
      "name": "python3",
      "display_name": "Python 3"
    },
    "language_info": {
      "name": "python"
    }
  },
  "cells": [
    {
      "cell_type": "code",
      "execution_count": 12,
      "metadata": {
        "colab": {
          "base_uri": "https://localhost:8080/"
        },
        "id": "qBbLmeiFxc_q",
        "outputId": "2dd8029e-fd90-41ac-f144-465262b0910c"
      },
      "outputs": [
        {
          "output_type": "stream",
          "name": "stdout",
          "text": [
            "Person is a Full Stack Developer\n",
            "Person is a Frontend Developer\n",
            "person is a Backend Developer\n",
            "Person is not a Developer\n"
          ]
        }
      ],
      "source": [
        "'''\n",
        "General case represents that developer working on\n",
        "frontend cannot work backend development unless he/she is fullstack dev.\n",
        "\n",
        "Write a method named verifier () that checks this condition.\n",
        "\n",
        "The method should check that if frontend is True and backend is True,\n",
        "the method returns Fullstack as string. If one of them is True, it should return\n",
        "the respective desgination, and if none of them are true, it returns,\n",
        "not a developer respetively.\n",
        "'''\n",
        "\n",
        "class Employee:\n",
        "    def __init__ (\n",
        "            self,\n",
        "            designation : str = 'Developer',\n",
        "            frontend : bool = False,\n",
        "            backend : bool = False,\n",
        "    ):\n",
        "        self.designation = designation\n",
        "        self.frontend = frontend\n",
        "        self.backend = backend\n",
        "\n",
        "\n",
        "    def __repr__ (self):\n",
        "        return '{}'.format (self.designation, self.frontend, self.backend)\n",
        "\n",
        "    ### Write the your method over here.\n",
        "    def verifier (self):\n",
        "\n",
        "        if self.frontend and self.backend :\n",
        "          return f\"Person is a Full Stack {self.designation}\"\n",
        "        elif self.frontend:\n",
        "          return f\"Person is a Frontend {self.designation}\"\n",
        "        elif self.backend:\n",
        "          return f\"person is a Backend {self.designation}\"\n",
        "        else:\n",
        "          return f\"Person is not a {self.designation}\"\n",
        "\n",
        "\n",
        "if __name__ == '__main__':\n",
        "    fEmployee = Employee (frontend=True, backend = True)\n",
        "    print(fEmployee.verifier())\n",
        "    sEmployee = Employee (frontend=True,backend=False)\n",
        "    print(sEmployee.verifier())\n",
        "    tEmployee = Employee (frontend=False,backend=True)\n",
        "    print(tEmployee.verifier())\n",
        "    foEmployee = Employee (frontend=False,backend=False)\n",
        "    print(foEmployee.verifier())\n",
        "    # dev = firstEmployee.verifier('Elon musk')\n",
        "    # print(dev)\n",
        "\n",
        "    # Call the method here to display output."
      ]
    },
    {
      "cell_type": "code",
      "source": [],
      "metadata": {
        "id": "0diO3KMP02Kh"
      },
      "execution_count": null,
      "outputs": []
    }
  ]
}